{
 "cells": [
  {
   "cell_type": "code",
   "execution_count": 1,
   "id": "0de3e1b8-0c85-41da-bd19-9f6bb1aa883d",
   "metadata": {},
   "outputs": [],
   "source": [
    "import pandas as pd\n",
    "import joblib"
   ]
  },
  {
   "cell_type": "code",
   "execution_count": 3,
   "id": "5d38f456-07b9-47b2-8274-38a9dfcad099",
   "metadata": {},
   "outputs": [
    {
     "name": "stdout",
     "output_type": "stream",
     "text": [
      "/Users/apal/Documents/GitHub/ML_template\n"
     ]
    }
   ],
   "source": [
    "!pwd"
   ]
  },
  {
   "cell_type": "code",
   "execution_count": 5,
   "id": "6fe263dc-de42-49cc-8a82-abcf27f424ae",
   "metadata": {},
   "outputs": [],
   "source": [
    "## load Test Data set \n",
    "test_data = pd.read_csv('data/Bank_Personal_Loan_Modelling.csv')"
   ]
  },
  {
   "cell_type": "code",
   "execution_count": 6,
   "id": "0b42e3cf-2e00-4c1b-bbe8-8d6f9061162b",
   "metadata": {},
   "outputs": [],
   "source": [
    "## Load Features and model weight\n",
    "train_features = joblib.load(\"model_features/train_features.joblib\")\n",
    "\n",
    "model = joblib.load(\"model_weights/my_random_forest.joblib\")\n"
   ]
  },
  {
   "cell_type": "code",
   "execution_count": 7,
   "id": "e7ef3c32-9e62-428f-98d6-217116d259bd",
   "metadata": {},
   "outputs": [],
   "source": [
    "test_data_features = test_data[train_features]"
   ]
  },
  {
   "cell_type": "code",
   "execution_count": 8,
   "id": "367078ff-57ad-4179-9873-e05434634f00",
   "metadata": {},
   "outputs": [],
   "source": [
    "y_prediction = model.predict(test_data_features)"
   ]
  },
  {
   "cell_type": "code",
   "execution_count": null,
   "id": "ab9ad244-a6c6-494d-b5fe-c9a11290d68e",
   "metadata": {},
   "outputs": [],
   "source": []
  },
  {
   "cell_type": "code",
   "execution_count": null,
   "id": "ac7efa80-b2e7-41bd-ac3b-6e10955c55b8",
   "metadata": {},
   "outputs": [],
   "source": []
  },
  {
   "cell_type": "code",
   "execution_count": null,
   "id": "b871c13a-0bc4-430d-a6cc-4ba8fb69911b",
   "metadata": {},
   "outputs": [],
   "source": []
  }
 ],
 "metadata": {
  "kernelspec": {
   "display_name": "Python 3 (ipykernel)",
   "language": "python",
   "name": "python3"
  },
  "language_info": {
   "codemirror_mode": {
    "name": "ipython",
    "version": 3
   },
   "file_extension": ".py",
   "mimetype": "text/x-python",
   "name": "python",
   "nbconvert_exporter": "python",
   "pygments_lexer": "ipython3",
   "version": "3.9.18"
  }
 },
 "nbformat": 4,
 "nbformat_minor": 5
}
